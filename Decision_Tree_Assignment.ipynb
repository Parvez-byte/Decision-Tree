{
  "nbformat": 4,
  "nbformat_minor": 0,
  "metadata": {
    "colab": {
      "provenance": []
    },
    "kernelspec": {
      "name": "python3",
      "display_name": "Python 3"
    },
    "language_info": {
      "name": "python"
    }
  },
  "cells": [
    {
      "cell_type": "markdown",
      "source": [
        "# Decision Tree"
      ],
      "metadata": {
        "id": "ZcickVVG4XEy"
      }
    },
    {
      "cell_type": "markdown",
      "source": [
        "1. What is a Decision Tree, and how does it work?\n",
        "- A Decision Tree is a type of supervised machine learning algorithm that is commonly used for both classification and regression tasks. It resembles a tree-like structure where each internal node represents a decision based on a feature, each branch represents the outcome of the decision, and each leaf node represents a final output or class label.\n",
        "\n",
        "- How it Works >>\n",
        "\n",
        "- Splitting the Data:\n",
        "  - The algorithm starts at the root node (top of the tree) and splits the dataset based on a feature that results in the best separation between the classes (for classification) or reduces the prediction error (for regression).\n",
        "  - This is done using criteria like:\n",
        "    - Gini Impurity or Entropy for classification\n",
        "    - Mean Squared Error (MSE) for regression\n",
        "\n",
        "- Recursive Partitioning:\n",
        "  - The process is repeated recursively on each subset of data created from the split, creating child nodes.\n",
        "  - This continues until a stopping condition is met, such as:\n",
        "    - All data points belong to the same class\n",
        "    - Maximum tree depth is reached\n",
        "    - Minimum number of samples per node is achieved\n",
        "\n",
        "- Leaf Nodes:\n",
        "  - The final nodes (leaves) contain the predicted output. For classification, it's the majority class; for regression, it's the average value"
      ],
      "metadata": {
        "id": "FfOPVwdb4XOM"
      }
    },
    {
      "cell_type": "markdown",
      "source": [
        "2. What are impurity measures in Decision Trees?\n",
        "- In the context of Decision Trees, impurity measures are mathematical functions used to determine how mixed or pure a node is in terms of the target variable. The purpose of these measures is to guide the algorithm in selecting the best feature and threshold to split the dataset at each step during the tree-building process.\n",
        "- A node is said to be pure if all its samples belong to the same class. Conversely, a node is impure if it contains samples from multiple classes. Impurity measures help quantify this “mixedness.”\n",
        "\n",
        "- Common Impurity Measures >>\n",
        "\n",
        "- Gini Impurity -\n",
        "            Formula:\n",
        "            Gini = 1 - Σ (p_i)^2\n",
        "            (where p_i is the probability of class i, and the sum is over all classes)\n",
        " - Range: 0 (pure) to 0.5 (most impure for binary classification)\n",
        " - Description:A lower Gini value indicates higher purity. It is most commonly used in the CART (Classification and Regression Tree) algorithm.\n",
        "\n",
        " - Entropy (Information Gain) -\n",
        "           Formula:\n",
        "           Entropy = - Σ p_i * log₂(p_i)\n",
        "           (where p_i is the probability of class i)\n",
        "\n",
        "  - Range: 0 (pure) to log₂(C), where C is the number of classes\n",
        "  - Information Gain: Information Gain = Entropy(parent) - Σ [(n_child / n_parent) * Entropy(child)]\n",
        "  - Description: Entropy is used in algorithms like ID3 and C4.5. It also measures impurity, but is more sensitive to class distribution and requires more computation due to the logarithmic function.\n",
        "\n",
        "\n",
        "- Classification Error (less commonly used) -\n",
        "         Formula:\n",
        "         Error = 1 - max(p_i)\n",
        "\n",
        " - Description:This simply calculates the misclassification rate. It is not usually used during tree growth but may be used during pruning for simplicity.\n"
      ],
      "metadata": {
        "id": "KK-zT9Me4XWx"
      }
    },
    {
      "cell_type": "markdown",
      "source": [
        "3. What is the mathematical formula for Gini Impurity?\n",
        "- The Gini Impurity is a metric used to measure how often a randomly chosen element from the set would be incorrectly labeled if it was randomly labeled according to the distribution of labels in the node.\n",
        "- It is widely used in Classification Trees, particularly in the CART algorithm.\n",
        "\n",
        "- Mathematical Formula of Gini Impurity >>\n",
        " - Let there be C classes in a dataset. Let p₁, p₂, ..., pn represent the probability of an item being classified into class k. The formula is:\n",
        "            Gini = 1 - (p₁² + p₂² + ... + pn²)\n",
        "            Or in summation notation:\n",
        "            Gini = 1 - Σ (pᵢ)²\n",
        "            Where:\n",
        "            pᵢ = Proportion of samples belonging to class i in a given node\n",
        "            Σ = Summation over all classes present in that node\n",
        "\n",
        "\n",
        "- Explanation with an Example:\n",
        "  - Suppose a node contains 3 classes:\n",
        "    - Class A: 50% (p₁ = 0.5)\n",
        "    - Class B: 30% (p₂ = 0.3)\n",
        "    - Class C: 20% (p₃ = 0.2)\n",
        "\n",
        "       Then,\n",
        "        \n",
        "          Gini = 1 - (0.5² + 0.3² + 0.2²)\n",
        "               = 1 - (0.25 + 0.09 + 0.04)\n",
        "               = 1 - 0.38\n",
        "               = 0.62\n",
        "\n",
        "               So, the Gini Impurity for this node is 0.62, which indicates the node is fairly impure.\n",
        "\n",
        "- Interpretation:\n",
        "  - Gini = 0 → Perfectly pure node (all samples belong to one class)\n",
        "  - Higher Gini → More mixed or impure node\n",
        "  - Used to decide which split will best reduce impurity in the data\n",
        "\n"
      ],
      "metadata": {
        "id": "KXZRBIeA4XZ4"
      }
    },
    {
      "cell_type": "markdown",
      "source": [
        "4. What is the mathematical formula for Entropy?\n",
        "- Entropy is a commonly used impurity measure in Decision Trees. It comes from information theory and measures the amount of uncertainty or disorder in a node. A node is more “uncertain” or “impure” when the data is evenly split among classes and less impure when most data belongs to a single class.\n",
        "\n",
        "- Mathematical Formula of Entropy >>\n",
        "  - Let there be C classes in the dataset. Let p₁, p₂, ..., pn be the probabilities of an item being classified into class 1 through class k. The formula is:\n",
        "          Entropy = Entropy = - (p1 * log2(p1) + p2 * log2(p2) + ... + pn * log2(pn))\n",
        "\n",
        "          Or using summation notation:\n",
        "          Entropy = - Σ (pi * log2(pi)) for i = 1 to n\n",
        "          Where:\n",
        "          pi is the probability of class i\n",
        "          log2 means logarithm to the base 2\n",
        "          n is the total number of classes\n",
        "\n",
        "- Example:\n",
        "  - Suppose a node has:\n",
        "    - Class A: 40% (p₁ = 0.4)\n",
        "    - Class B: 60% (p₂ = 0.6)\n",
        "    \n",
        "    Then entropy is:\n",
        "\n",
        "         Entropy = - (0.4 * log₂(0.4) + 0.6 * log₂(0.6))\n",
        "                 ≈ - (0.4 * -1.32 + 0.6 * -0.737)\n",
        "                 ≈ - (-0.528 - 0.442)\n",
        "                 ≈ 0.97\n",
        "          So the entropy of this node is approximately 0.97, which indicates a fairly high level of impurity.\n",
        "\n",
        "- Interpretation:\n",
        "  - Entropy = 0 → Node is pure (all samples belong to one class)\n",
        "  - Entropy is high → Node is mixed (classes are evenly distributed)\n",
        "  - Maximum entropy for binary classification is 1 (when both classes are 50/50)"
      ],
      "metadata": {
        "id": "7-3-LjV24Xg3"
      }
    },
    {
      "cell_type": "markdown",
      "source": [
        "5. What is Information Gain, and how is it used in Decision Trees?\n",
        "- Information Gain is a key concept used in building Decision Trees, especially in algorithms like ID3 and C4.5. It helps the model decide which feature to split on at each step by measuring how much \"information\" (or reduction in impurity) is gained from making a particular split.\n",
        "- Definition:\n",
        "  - Information Gain is defined as the reduction in entropy after a dataset is split on a feature. It tells us how much better we have become at predicting the target variable by knowing the value of a specific feature.\n",
        "\n",
        "- Mathematical Formula -\n",
        "         Information Gain = Entropy(parent) - [Weighted Average of Entropy(children)]\n",
        "         Or more precisely:\n",
        "         IG = Entropy(D) - Σ ( |Dj| / |D| ) * Entropy(Dj )\n",
        "         Where:\n",
        "         IG = Information Gain\n",
        "         D = original dataset\n",
        "         Dj = subset after split\n",
        "         |D| = total number of records in the parent\n",
        "         |Dj| = number of records in child node j\n",
        "         Entropy(D) = entropy of the parent node\n",
        "         Entropy(Dj) = entropy of the child node j\n",
        "\n",
        "- How is Information Gain used in Decision Trees?\n",
        "- In Decision Trees, Information Gain is used to choose the best feature to split the data at each node. The idea is to reduce uncertainty (entropy) in the target variable as much as possible with each decision.\n",
        "\n",
        "\n",
        "- Here's how it's used step-by-step:\n",
        "  - Start at the root node (the full dataset).\n",
        "  - For each available feature:\n",
        "    - Calculate the Information Gain that would result from splitting the data based on that feature.\n",
        "  - Choose the feature with the highest Information Gain — because it results in the most reduction in impurity.\n",
        "  - Split the dataset into subsets using this feature.\n",
        "  - Repeat the process recursively for each subset until:\n",
        "    - All data in a node belongs to one class (pure), or\n",
        "    - No further gain can be achieved (stopping criteria is met).\n",
        "\n",
        "- Why It Matters:\n",
        "  - It ensures that at every level of the tree, the most useful feature is chosen, making the tree more accurate and efficient.\n",
        "  - It helps the tree grow in a data-driven way by focusing on the most informative splits.\n",
        "\n",
        "  \n"
      ],
      "metadata": {
        "id": "rCrbVXba4Xj8"
      }
    },
    {
      "cell_type": "markdown",
      "source": [
        "6. What is the difference between Gini Impurity and Entropy?\n",
        "- Both Gini Impurity and Entropy are impurity measures used to evaluate the quality of a split in a Decision Tree. They help the algorithm decide which feature should be used to split the dataset at each step. Although they serve a similar purpose, they differ in their formulas, interpretation, and sometimes in performance.\n",
        "- Below is a detailed comparison:\n",
        "\n",
        "- Mathematical Formula:\n",
        "           Gini Impurity:\n",
        "              Gini = 1 - Σ (pi)^2\n",
        "            Where pi is the probability of a sample belonging to class i.\n",
        "\n",
        "    Entropy:\n",
        "           \n",
        "           Entropy = - Σ (pi * log2(pi))\n",
        "  - Both use the class probabilities, but Gini squares them while Entropy uses logarithms.\n",
        "\n",
        "- Conceptual Meaning:\n",
        "  - Gini Impurity measures how often a randomly chosen element would be incorrectly classified.\n",
        "  - Entropy measures the amount of uncertainty or disorder in the data.\n",
        "    - So, Gini is about misclassification, while Entropy is about information content.\n",
        "\n",
        "- Range of Values:\n",
        "  - Gini Impurity: Ranges from 0 to (1 - 1/n) (For binary classification: 0 to 0.5)\n",
        "  - Entropy: Ranges from 0 to log2(n)(For binary classification: 0 to 1)\n",
        "    - In both cases, 0 means pure (only one class in the node).\n",
        "\n",
        "- Computational Efficiency:\n",
        "  - Gini is faster to compute because it doesn’t involve logarithms.\n",
        "  - Entropy is computationally heavier due to the log2 function.\n",
        "\n",
        "- Use in Algorithms:\n",
        "  - Gini Impurity is mainly used in the CART algorithm, which builds binary decision trees.\n",
        "  - Entropy is used in algorithms like ID3 and C4.5.\n",
        "\n",
        "- Choice in Practice:\n",
        "  - Both usually give similar results, especially in small or well-separated datasets.\n",
        "  - Gini might produce slightly purer nodes, while Entropy may sometimes lead to a more balanced tree.\n",
        "  - Choice often depends on personal preference or the specific algorithm used."
      ],
      "metadata": {
        "id": "77kfIFNM4Xmo"
      }
    },
    {
      "cell_type": "markdown",
      "source": [
        "7. What is the mathematical explanation behind Decision Trees?\n",
        "- A Decision Tree is a supervised machine learning algorithm used for both classification and regression tasks. The core idea is to split the dataset into subsets based on an attribute value test, and this process is repeated recursively, resulting in a tree structure.\n",
        "- The mathematical explanation is primarily based on measures of impurity and information gain. Here's a detailed breakdown:\n",
        "\n",
        "- Impurity Measures - These measures help to decide the best feature to split the data at each step.\n",
        " - a) Gini Impurity (used in CART - Classification and Regression Tree):\n",
        "         Formula:\n",
        "                 Gini(D) = 1 - Σ (p_i)^2\n",
        "         Where:\n",
        "         D = dataset\n",
        "         p_i = proportion of instances belonging to class i\n",
        "         Σ = sum over all classes\n",
        "         Lower Gini means purer nodes. The feature giving the lowest Gini after split is preferred.\n",
        "\n",
        "  - b) Entropy (used in ID3 algorithm)\n",
        "         Formula:\n",
        "                 Entropy(D) = - Σ (p_i * log2(p_i))\n",
        "         Where:\n",
        "         D = dataset\n",
        "         p_i = proportion of instances in class i\n",
        "         log2 = base 2 logarithm\n",
        "         Entropy is highest when data is evenly split and lowest (0) when completely pure.\n",
        "\n",
        "- Information Gain - Information Gain is the reduction in entropy after a dataset is split on a feature.\n",
        "         Formula:\n",
        "                 Information Gain = Entropy(Parent) - Σ [(|D_j| / |D|) * Entropy(D_j)]\n",
        "         Where:\n",
        "         D = original dataset\n",
        "         D_j = each subset after split\n",
        "         |D_j| = number of elements in subset\n",
        "         |D| = number of elements in original dataset\n",
        "         Higher Information Gain means the feature is better for splitting.\n",
        "\n",
        "- For Regression Trees - Instead of entropy or Gini, regression trees use variance to decide splits.\n",
        "         Formula:\n",
        "                 Variance = (1/n) * Σ (y_i - y_mean)^2\n",
        "         Where:\n",
        "         y_i = actual value\n",
        "         y_mean = mean of target values in the node\n",
        "         n = number of observations\n",
        "         The tree chooses splits that reduce variance the most.\n",
        "\n",
        "- Summary of Decision Tree Building\n",
        "  - Calculate impurity (Gini or Entropy) at the current node.\n",
        "  - Try splitting the data using all features.\n",
        "  - For each split, calculate the reduction in impurity (Information Gain).\n",
        "  - Choose the best feature based on maximum gain.\n",
        "  - Repeat the process recursively until a stopping condition is met.\n",
        "\n",
        "\n",
        "- Mathematically, Decision Trees use Gini Impurity, Entropy, Information Gain, or Variance to evaluate the best feature for splitting. The algorithm recursively builds the tree by selecting splits that most effectively reduce impurity, helping in accurate predictions."
      ],
      "metadata": {
        "id": "kfvjAzMg4XpR"
      }
    },
    {
      "cell_type": "markdown",
      "source": [
        "8. What is Pre-Pruning in Decision Trees?\n",
        "- Pruning is a technique in decision trees used to control the size of the tree and improve its generalization ability. It helps to avoid overfitting, which occurs when a tree becomes too complex and starts memorizing the training data rather than learning general patterns.\n",
        "\n",
        "- Pre-Pruning (also known as Early Stopping) >>\n",
        " - Definition - Pre-pruning is the process of halting the growth of the decision tree before it becomes overly complex. It stops the tree from splitting a node if the split does not significantly improve performance.\n",
        " - How It Works - During the tree-building process, the algorithm evaluates a stopping condition before expanding each node. If the condition is met, the node is declared a leaf node, and no further splitting is performed.\n",
        " - Common Pre-Pruning Criteria -\n",
        "    - Max Depth: Limit the depth of the tree (e.g., max_depth = 5).\n",
        "    - Min Samples Split: A node must have at least a certain number of samples to be considered for a split (e.g., min_samples_split = 10).\n",
        "    - Min Samples Leaf: The minimum number of samples required to be at a leaf node (e.g., min_samples_leaf = 5).\n",
        "    - Min Impurity Decrease: A node will be split only if the impurity decrease from the split is larger than a set threshold.\n",
        "    - Max Number of Nodes: Set a limit on the total number of nodes in the tree.\n",
        "  - Advantages of Pre-Pruning:\n",
        "    - Reduces training time since the tree grows less.\n",
        "    - Prevents the model from becoming too complex.\n",
        "    - Produces a simpler, more interpretable tree.\n",
        "\n",
        "  - Disadvantages of Pre-Pruning:\n",
        "    - May stop too early and miss important splits.\n",
        "    - Might lead to underfitting if the tree is too shallow.\n",
        "\n",
        "\n",
        "\n",
        "\n",
        "\n"
      ],
      "metadata": {
        "id": "NgOW8fih4Xsg"
      }
    },
    {
      "cell_type": "markdown",
      "source": [
        "9. What is Post-Pruning in Decision Trees ?\n",
        "- Pruning is a technique used in decision trees to reduce their size and prevent overfitting. Overfitting occurs when a tree becomes too complex and captures noise in the data instead of general patterns.\n",
        "\n",
        "-  Post-Pruning (also known as Cost-Complexity Pruning or Reduced Error Pruning)\n",
        "  - Definition - Post-pruning is the process of allowing the tree to grow fully and then removing parts of the tree that do not improve model performance on validation data.\n",
        "  - How It Works:\n",
        "    - First, the decision tree is allowed to grow until it perfectly classifies the training data or reaches other stopping conditions.\n",
        "    - Then, it goes through a pruning phase where some nodes (usually leaf nodes) are removed from the bottom up, based on a cost-benefit analysis.\n",
        "    - The model is evaluated on a validation set, and branches that do not contribute to better accuracy are pruned.\n",
        "\n",
        "  - Common Post-Pruning Techniques:\n",
        "    - Reduced Error Pruning: Removes nodes that do not increase error on a validation set.\n",
        "    - Cost Complexity Pruning (used in CART): Uses a parameter α to control the trade-off between tree size and accuracy. The algorithm removes nodes that provide minimal improvement in performance.\n",
        "   - Advantages of Post-Pruning:\n",
        "     - Usually results in better generalization than pre-pruning.\n",
        "     - Ensures that important splits are not missed.\n",
        "   - Disadvantages of Post-Pruning:\n",
        "     - Requires more computation since the full tree is built.\n",
        "     - Needs a separate validation dataset to evaluate pruning decisions.\n"
      ],
      "metadata": {
        "id": "BEZeNi_04XvH"
      }
    },
    {
      "cell_type": "markdown",
      "source": [
        "10. What is the difference between Pre-Pruning and Post-Pruning in Decision Trees?\n",
        "- Pruning is used in decision trees to reduce complexity, prevent overfitting, and improve the model’s ability to generalize. There are two main types of pruning: Pre-Pruning and Post-Pruning. Here's a detailed comparison between them:\n",
        "\n",
        "- Definition -\n",
        "  - Pre-Pruning (Early Stopping):\n",
        "    The process of stopping the tree from growing further while it is being built, based on certain predefined conditions.\n",
        "  - Post-Pruning (Backward Pruning):\n",
        "    The process of removing branches from a fully grown tree after it has been built to reduce overfitting.\n",
        "\n",
        "- Timing -\n",
        "  - Pre-Pruning:\n",
        "    Happens during the training phase, before the tree is fully grown.\n",
        "  - Post-Pruning:\n",
        "    Happens after the full tree has been grown and trained on the data.\n",
        "\n",
        "- Stopping Conditions / Criteria -\n",
        "  - Pre-Pruning:\n",
        "    - Maximum tree depth\n",
        "    - Minimum number of samples required to split a node\n",
        "    - Minimum information gain\n",
        "    - Minimum impurity decrease\n",
        "  - Post-Pruning:\n",
        "    - Evaluates nodes based on validation set accuracy\n",
        "    - Uses metrics like error reduction or cost-complexity\n",
        "    - Prunes nodes that do not improve generalization\n",
        "\n",
        "- Risk -\n",
        "  - Pre-Pruning:\n",
        "    May stop too early and miss useful splits, leading to underfitting.\n",
        "  - Post-Pruning:\n",
        "Allows learning more from data first, then simplifies. Reduces risk of both overfitting and underfitting.\n",
        "\n",
        "- Accuracy -\n",
        "  - Pre-Pruning:\n",
        "Can sometimes lead to lower accuracy if the stopping rule is too strict.\n",
        "  - Post-Pruning:\n",
        "Typically results in better model accuracy because the tree is first allowed to learn fully.\n",
        "\n",
        "- Efficiency -\n",
        "  - Pre-Pruning:\n",
        "More efficient during training because it limits tree growth early.\n",
        "  - Post-Pruning:\n",
        "More computationally expensive since it builds the full tree first and then prunes it.\n",
        "\n",
        "- Validation Requirement\n",
        "  - Pre-Pruning:\n",
        "May not require a separate validation set (depends on implementation).\n",
        "  - Post-Pruning:\n",
        "Usually needs a validation dataset to evaluate pruning decisions."
      ],
      "metadata": {
        "id": "Xn0wzw-a4Xx3"
      }
    },
    {
      "cell_type": "markdown",
      "source": [
        "11. What is a Decision Tree Regressor?\n",
        "- A Decision Tree Regressor is a type of decision tree algorithm used for regression tasks, where the target variable is continuous (numerical) rather than categorical.\n",
        "- It works by learning decision rules from the features of the data and predicting a continuous value instead of a class label.\n",
        "\n",
        "- How It Works >>\n",
        "  - Splitting the Data:\n",
        "     - The algorithm splits the dataset into subsets based on conditions on the input features.\n",
        "     - At each node, it chooses the best split by minimizing a cost function, typically Mean Squared Error (MSE) or Mean Absolute Error (MAE).\n",
        "  - Recursive Partitioning:\n",
        "     - This process of splitting continues recursively, creating branches and sub-branches of decision rules.\n",
        "  - Leaf Nodes:\n",
        "     - Once stopping criteria are met (e.g., minimum samples, max depth), the final subset becomes a leaf node, which holds a numerical prediction — usually the mean of the target values in that node.\n",
        "\n",
        "- Mathematical Objective:\n",
        "  - Most Decision Tree Regressors use Mean Squared Error (MSE) to decide where to split:\n",
        "           Formula:\n",
        "                   MSE = (1/n) * Σ (yᵢ - ŷ)²\n",
        "           Where:\n",
        "           yᵢ = actual value\n",
        "           ŷ = predicted value (mean in the leaf)\n",
        "           n = number of data points in the node\n",
        "           The algorithm chooses splits that minimize the overall MSE.\n",
        "\n",
        "- Key Parameters:\n",
        "   - max_depth: Maximum depth of the tree\n",
        "   - min_samples_split: Minimum number of samples needed to split a node\n",
        "   - min_samples_leaf: Minimum number of samples required at a leaf node\n",
        "   - max_features: Number of features to consider when looking for the best split\n",
        "\n",
        "- A Decision Tree Regressor is a supervised learning model that predicts continuous outcomes by learning a series of if-else rules based on the input data. It’s simple, interpretable, and works well for many regression problems, especially when combined with pruning or ensemble techniques."
      ],
      "metadata": {
        "id": "c62HaFbX4X0u"
      }
    },
    {
      "cell_type": "markdown",
      "source": [
        "12. What are the advantages and disadvantages of Decision Trees?\n",
        "- Advantages of Decision Trees >>\n",
        "  - Simple to Understand & Interpret - Easy to visualize and explain; tree structure is human-readable.\n",
        "  - No Need for Feature Scaling - No normalization or standardization required.\n",
        "  - Handles Both Types of Data - Works with numerical and categorical variables.\n",
        "  - Captures Non-Linear Relationships - Models complex patterns without needing mathematical assumptions.\n",
        "  - Requires Less Data Cleaning - Not sensitive to outliers or missing values (to some extent).\n",
        "\n",
        "- Disadvantages of Decision Trees: >>\n",
        "  - Prone to Overfitting - Can create overly complex trees if not pruned.\n",
        "  - Unstable Model - Small changes in data can lead to a different tree structure.\n",
        "  - Bias Toward Dominant Features - May favor features with more levels (especially categorical ones).\n",
        "  - Less Accurate Alone - Often outperformed by ensemble methods like Random Forest or Gradient Boosting.\n",
        "  "
      ],
      "metadata": {
        "id": "E9MHUgIo4X3j"
      }
    },
    {
      "cell_type": "markdown",
      "source": [
        "13. How does a Decision Tree handle missing values?\n",
        "- Decision Trees can handle missing values better than many other algorithms. There are multiple ways they deal with missing data during training and prediction:\n",
        "\n",
        "- During Training (Tree Building):\n",
        "  - Surrogate Splits (used in some implementations like CART):\n",
        "    - When the best feature for splitting has missing values, the algorithm finds a surrogate feature—a feature that gives similar splits.\n",
        "    - The split is done using the surrogate if the primary splitting feature is missing.\n",
        "  - Ignoring Missing Values for Split Calculation:\n",
        "    - Some decision tree models (like in scikit-learn) ignore rows with missing values for a particular feature when calculating the best split.\n",
        "    - Only the available data is used to decide the split condition.\n",
        "\n",
        "- During Prediction:\n",
        "  - Follow the Most Frequent Path:\n",
        "    - If a feature value is missing at a decision node, the model can follow the path taken by the majority of training samples at that node.\n",
        "  - Use Surrogate Splits Again:\n",
        "    - If surrogate splits were recorded during training, they are used to decide the direction when the main feature is missing.\n",
        "\n",
        "- Alternative Approach: Preprocessing Missing Values\n",
        "  - In practice, missing values are often imputed before training, using:\n",
        "   - Mean/median for numerical features\n",
        "   - Mode for categorical features\n",
        "   - Or more advanced methods like KNN imputation\n",
        "\n",
        "- Decision Trees are relatively robust to missing data. They either use surrogate splits, ignore missing values during split decisions, or follow default strategies during prediction. Additionally, preprocessing steps like imputation can further improve performance."
      ],
      "metadata": {
        "id": "d0aZf_LC4X6Q"
      }
    },
    {
      "cell_type": "markdown",
      "source": [
        "14. How does a Decision Tree handle categorical features?\n",
        "- Decision Trees are well-suited to handle categorical features directly, without the need for advanced transformations. Here's how they do it:\n",
        "\n",
        "- Splitting on Categorical Features -\n",
        "  - When a categorical feature is chosen for splitting, the tree divides data based on the unique categories (labels) of that feature.\n",
        "  - For example, if the feature is Color = {Red, Blue, Green}, the tree might split like:\n",
        "    - \"Is Color = Red?\" → Yes / No\n",
        "    - Or \"Is Color in {Red, Green}?\" → Yes / No\n",
        "\n",
        "-  Binary or Multiway Splits -\n",
        "   - Binary Splits:\n",
        "Many implementations (like scikit-learn) convert categorical features into binary splits, using methods like one-hot encoding or grouping categories based on information gain.\n",
        "   - Multiway Splits (used in some libraries):\n",
        "Some decision tree algorithms (like ID3 or C4.5) allow multi-branch splits, where each branch corresponds to one category.\n",
        "\n",
        "- Information Gain or Gini for Categorical Splits -\n",
        "  - For each category or grouping of categories, the algorithm calculates information gain or Gini impurity to find the best split.\n",
        "  - The combination of categories that gives the highest gain is selected.\n",
        "\n",
        "- Decision Trees can handle categorical features directly by splitting on categories. Depending on the implementation, they may use binary or multiway splits. The tree selects the best category or group of categories to split on using impurity measures like Gini or Entropy."
      ],
      "metadata": {
        "id": "dIaRX3zl4X9C"
      }
    },
    {
      "cell_type": "markdown",
      "source": [
        "15. What are some real-world applications of Decision Trees?\n",
        "- Decision Trees are widely used in various industries because they are easy to interpret and effective for both classification and regression tasks. Below are some real-world applications across different domains:\n",
        "\n",
        "- Healthcare >>\n",
        "  - Disease Diagnosis:\n",
        "Used to predict diseases based on symptoms and patient history (e.g., diabetes or cancer prediction).\n",
        "  - Treatment Recommendations:\n",
        "Helps in deciding suitable treatments by analyzing patient data and historical outcomes.\n",
        "\n",
        "- Finance >>\n",
        "  - Credit Scoring & Risk Assessment:\n",
        "Banks use decision trees to evaluate loan applications by assessing factors like income, credit history, and employment.\n",
        "  - Fraud Detection:\n",
        "Helps identify unusual transaction patterns and flag potential fraud.\n",
        "\n",
        "- E-commerce >>\n",
        "  - Customer Segmentation:\n",
        "Divides customers into groups based on behavior, age, or spending habits to tailor marketing strategies.\n",
        "  - Recommendation Systems:\n",
        "Suggests products based on user preferences and purchase history.\n",
        "\n",
        "- Education >>\n",
        "  - Student Performance Prediction:\n",
        "Predicts student success based on attendance, participation, and test scores.\n",
        "  - Dropout Analysis:\n",
        "Identifies at-risk students by analyzing behavioral and academic data.\n",
        "\n",
        "- Manufacturing >>\n",
        "  - Quality Control:\n",
        "Predicts product defects based on input material and production conditions.\n",
        "  - Maintenance Scheduling:\n",
        "Forecasts machine failures by analyzing sensor and usage data.\n",
        "\n",
        "- Human Resources >>\n",
        "  - Employee Attrition Prediction:\n",
        "Identifies employees likely to leave the organization based on tenure, job satisfaction, and role changes.\n",
        "  - Hiring Decisions:\n",
        "Screens candidates using historical hiring data and success metrics.\n",
        "\n"
      ],
      "metadata": {
        "id": "bXgn6BOOLfoK"
      }
    },
    {
      "cell_type": "markdown",
      "source": [
        "# Practical Questions"
      ],
      "metadata": {
        "id": "BuaXY6e4LgBs"
      }
    },
    {
      "cell_type": "code",
      "source": [
        "#16. Write a Python program to train a Decision Tree Classifier on the Iris dataset and print the model accuracy.\n",
        "# Import necessary libraries\n",
        "from sklearn import datasets\n",
        "from sklearn.model_selection import train_test_split\n",
        "from sklearn.tree import DecisionTreeClassifier\n",
        "from sklearn.metrics import accuracy_score\n",
        "\n",
        "# Load the Iris dataset\n",
        "iris = datasets.load_iris()\n",
        "X = iris.data\n",
        "y = iris.target\n",
        "\n",
        "# Split the dataset into training and testing sets\n",
        "X_train, X_test, y_train, y_test = train_test_split(X, y, test_size=0.2, random_state=42)\n",
        "\n",
        "# Create a Decision Tree Classifier\n",
        "clf = DecisionTreeClassifier(random_state=42)\n",
        "\n",
        "# Train the model\n",
        "clf.fit(X_train, y_train)\n",
        "\n",
        "# Make predictions on the test set\n",
        "y_pred = clf.predict(X_test)\n",
        "\n",
        "# Calculate and print the model accuracy\n",
        "accuracy = accuracy_score(y_test, y_pred)\n",
        "print(\"Model Accuracy:\", accuracy)"
      ],
      "metadata": {
        "colab": {
          "base_uri": "https://localhost:8080/"
        },
        "id": "g0_a2SgOMh1u",
        "outputId": "75779bfd-95e6-4fe8-9f2e-f1fd150677a0"
      },
      "execution_count": 1,
      "outputs": [
        {
          "output_type": "stream",
          "name": "stdout",
          "text": [
            "Model Accuracy: 1.0\n"
          ]
        }
      ]
    },
    {
      "cell_type": "code",
      "source": [
        "#17 Write a Python program to train a Decision Tree Classifier using Gini impurity as the criterion and print the feature importances.\n",
        "# Import necessary libraries\n",
        "from sklearn import datasets\n",
        "from sklearn.model_selection import train_test_split\n",
        "from sklearn.tree import DecisionTreeClassifier\n",
        "from sklearn.metrics import accuracy_score\n",
        "\n",
        "# Load the Iris dataset\n",
        "iris = datasets.load_iris()\n",
        "X = iris.data\n",
        "y = iris.target\n",
        "feature_names = iris.feature_names\n",
        "\n",
        "# Split the dataset into training and testing sets\n",
        "X_train, X_test, y_train, y_test = train_test_split(X, y, test_size=0.2, random_state=42)\n",
        "\n",
        "# Create a Decision Tree Classifier using Gini impurity\n",
        "clf = DecisionTreeClassifier(criterion='gini', random_state=42)\n",
        "\n",
        "# Train the model\n",
        "clf.fit(X_train, y_train)\n",
        "\n",
        "# Make predictions on the test set\n",
        "y_pred = clf.predict(X_test)\n",
        "\n",
        "# Calculate and print the model accuracy\n",
        "accuracy = accuracy_score(y_test, y_pred)\n",
        "print(\"Model Accuracy:\", accuracy)\n",
        "\n",
        "# Print feature importances\n",
        "feature_importances = clf.feature_importances_\n",
        "for feature_name, importance in zip(feature_names, feature_importances):\n",
        "    print(f\"{feature_name}: {importance:.3f}\")"
      ],
      "metadata": {
        "colab": {
          "base_uri": "https://localhost:8080/"
        },
        "id": "fLP-udCaMh_S",
        "outputId": "8bc7aef5-28be-4923-89c2-6410a0ec0e4a"
      },
      "execution_count": 2,
      "outputs": [
        {
          "output_type": "stream",
          "name": "stdout",
          "text": [
            "Model Accuracy: 1.0\n",
            "sepal length (cm): 0.000\n",
            "sepal width (cm): 0.017\n",
            "petal length (cm): 0.906\n",
            "petal width (cm): 0.077\n"
          ]
        }
      ]
    },
    {
      "cell_type": "code",
      "source": [
        "#18. Write a Python program to train a Decision Tree Classifier using Entropy as the splitting criterion and print the model accuracy.\n",
        "# Import necessary libraries\n",
        "from sklearn import datasets\n",
        "from sklearn.model_selection import train_test_split\n",
        "from sklearn.tree import DecisionTreeClassifier\n",
        "from sklearn.metrics import accuracy_score\n",
        "\n",
        "# Load the Iris dataset\n",
        "iris = datasets.load_iris()\n",
        "X = iris.data\n",
        "y = iris.target\n",
        "\n",
        "# Split the dataset into training and testing sets\n",
        "X_train, X_test, y_train, y_test = train_test_split(X, y, test_size=0.2, random_state=42)\n",
        "\n",
        "# Create a Decision Tree Classifier using Entropy\n",
        "clf = DecisionTreeClassifier(criterion='entropy', random_state=42)\n",
        "\n",
        "# Train the model\n",
        "clf.fit(X_train, y_train)\n",
        "\n",
        "# Make predictions on the test set\n",
        "y_pred = clf.predict(X_test)\n",
        "\n",
        "# Calculate and print the model accuracy\n",
        "accuracy = accuracy_score(y_test, y_pred)\n",
        "print(\"Model Accuracy:\", accuracy)"
      ],
      "metadata": {
        "colab": {
          "base_uri": "https://localhost:8080/"
        },
        "id": "5CHd0lozMiI0",
        "outputId": "62d114e0-f4da-4522-8a96-908403fa2e17"
      },
      "execution_count": 3,
      "outputs": [
        {
          "output_type": "stream",
          "name": "stdout",
          "text": [
            "Model Accuracy: 1.0\n"
          ]
        }
      ]
    },
    {
      "cell_type": "code",
      "source": [
        "#19. Write a Python program to train a Decision Tree Regressor on a housing dataset and evaluate using Mean Squared Error (MSE).\n",
        "# Import necessary libraries\n",
        "from sklearn.datasets import fetch_california_housing\n",
        "from sklearn.model_selection import train_test_split\n",
        "from sklearn.tree import DecisionTreeRegressor\n",
        "from sklearn.metrics import mean_squared_error\n",
        "\n",
        "# Load the California housing dataset\n",
        "cal_housing = fetch_california_housing()\n",
        "X = cal_housing.data\n",
        "y = cal_housing.target\n",
        "\n",
        "# Split the dataset into training and testing sets\n",
        "X_train, X_test, y_train, y_test = train_test_split(X, y, test_size=0.2, random_state=42)\n",
        "\n",
        "# Create a Decision Tree Regressor\n",
        "regressor = DecisionTreeRegressor(random_state=42)\n",
        "\n",
        "# Train the model\n",
        "regressor.fit(X_train, y_train)\n",
        "\n",
        "# Make predictions on the test set\n",
        "y_pred = regressor.predict(X_test)\n",
        "\n",
        "# Calculate and print the Mean Squared Error (MSE)\n",
        "mse = mean_squared_error(y_test, y_pred)\n",
        "print(\"Mean Squared Error (MSE):\", mse)"
      ],
      "metadata": {
        "colab": {
          "base_uri": "https://localhost:8080/"
        },
        "id": "vFFk2rkrMiRe",
        "outputId": "b1011060-e0f8-418f-9e8d-011a9739b033"
      },
      "execution_count": 5,
      "outputs": [
        {
          "output_type": "stream",
          "name": "stdout",
          "text": [
            "Mean Squared Error (MSE): 0.495235205629094\n"
          ]
        }
      ]
    },
    {
      "cell_type": "code",
      "source": [
        "#20. Write a Python program to train a Decision Tree Classifier and visualize the tree using Graphviz.\n",
        "from sklearn.datasets import load_iris\n",
        "from sklearn.tree import DecisionTreeClassifier, export_graphviz\n",
        "import graphviz\n",
        "\n",
        "# Load dataset\n",
        "iris = load_iris()\n",
        "X = iris.data\n",
        "y = iris.target\n",
        "\n",
        "# Train Decision Tree Classifier\n",
        "clf = DecisionTreeClassifier(random_state=42)\n",
        "clf.fit(X, y)\n",
        "\n",
        "# Export the tree as a dot file and render with graphviz\n",
        "dot_data = export_graphviz(clf, out_file=None,\n",
        "                           feature_names=iris.feature_names,\n",
        "                           class_names=iris.target_names,\n",
        "                           filled=True, rounded=True,\n",
        "                           special_characters=True)\n",
        "\n",
        "# Visualize the decision tree\n",
        "graph = graphviz.Source(dot_data)\n",
        "graph.render(\"decision_tree_iris\", format='png', cleanup=True)\n",
        "graph.view()\n"
      ],
      "metadata": {
        "colab": {
          "base_uri": "https://localhost:8080/",
          "height": 36
        },
        "id": "YUfoJWgaMiZi",
        "outputId": "921fceef-412f-4de4-b2a7-1ecc7df1c7e7"
      },
      "execution_count": 7,
      "outputs": [
        {
          "output_type": "execute_result",
          "data": {
            "text/plain": [
              "'decision_tree_iris.pdf'"
            ],
            "application/vnd.google.colaboratory.intrinsic+json": {
              "type": "string"
            }
          },
          "metadata": {},
          "execution_count": 7
        }
      ]
    },
    {
      "cell_type": "code",
      "source": [
        "#21. Write a Python program to train a Decision Tree Classifier with a maximum depth of 3 and compare its accuracy with a fully grown tree.\n",
        "# Import necessary libraries\n",
        "from sklearn import datasets\n",
        "from sklearn.model_selection import train_test_split\n",
        "from sklearn.tree import DecisionTreeClassifier\n",
        "from sklearn.metrics import accuracy_score\n",
        "\n",
        "# Load the Iris dataset\n",
        "iris = datasets.load_iris()\n",
        "X = iris.data\n",
        "y = iris.target\n",
        "\n",
        "# Split the dataset into training and testing sets\n",
        "X_train, X_test, y_train, y_test = train_test_split(X, y, test_size=0.2, random_state=42)\n",
        "\n",
        "# Create a Decision Tree Classifier with maximum depth 3\n",
        "clf_depth_3 = DecisionTreeClassifier(max_depth=3, random_state=42)\n",
        "clf_depth_3.fit(X_train, y_train)\n",
        "y_pred_depth_3 = clf_depth_3.predict(X_test)\n",
        "accuracy_depth_3 = accuracy_score(y_test, y_pred_depth_3)\n",
        "print(\"Accuracy with max depth 3:\", accuracy_depth_3)\n",
        "\n",
        "# Create a fully grown Decision Tree Classifier\n",
        "clf_full = DecisionTreeClassifier(random_state=42)\n",
        "clf_full.fit(X_train, y_train)\n",
        "y_pred_full = clf_full.predict(X_test)\n",
        "accuracy_full = accuracy_score(y_test, y_pred_full)\n",
        "print(\"Accuracy with full tree:\", accuracy_full)\n",
        "\n",
        "# Compare the accuracies\n",
        "print(\"Difference in accuracy:\", accuracy_full - accuracy_depth_3)"
      ],
      "metadata": {
        "colab": {
          "base_uri": "https://localhost:8080/"
        },
        "id": "DiV8FDzMMiiV",
        "outputId": "ac354b33-f27c-48ca-f269-3ccd1a6abf28"
      },
      "execution_count": 8,
      "outputs": [
        {
          "output_type": "stream",
          "name": "stdout",
          "text": [
            "Accuracy with max depth 3: 1.0\n",
            "Accuracy with full tree: 1.0\n",
            "Difference in accuracy: 0.0\n"
          ]
        }
      ]
    },
    {
      "cell_type": "code",
      "source": [
        "#22. Write a Python program to train a Decision Tree Classifier using \"best\" as the splitter criterion and compare its accuracy with a default tree.\n",
        "# Import necessary libraries\n",
        "from sklearn import datasets\n",
        "from sklearn.model_selection import train_test_split\n",
        "from sklearn.tree import DecisionTreeClassifier\n",
        "from sklearn.metrics import accuracy_score\n",
        "\n",
        "# Load the Iris dataset\n",
        "iris = datasets.load_iris()\n",
        "X = iris.data\n",
        "y = iris.target\n",
        "\n",
        "# Split the dataset into training and testing sets\n",
        "X_train, X_test, y_train, y_test = train_test_split(X, y, test_size=0.2, random_state=42)\n",
        "\n",
        "# Create a Decision Tree Classifier with \"best\" splitter\n",
        "clf_best = DecisionTreeClassifier(splitter='best', random_state=42)\n",
        "clf_best.fit(X_train, y_train)\n",
        "y_pred_best = clf_best.predict(X_test)\n",
        "accuracy_best = accuracy_score(y_test, y_pred_best)\n",
        "print(\"Accuracy with 'best' splitter:\", accuracy_best)\n",
        "\n",
        "# Create a Decision Tree Classifier with \"random\" splitter\n",
        "clf_random = DecisionTreeClassifier(splitter='random', random_state=42)\n",
        "clf_random.fit(X_train, y_train)\n",
        "y_pred_random = clf_random.predict(X_test)\n",
        "accuracy_random = accuracy_score(y_test, y_pred_random)\n",
        "print(\"Accuracy with 'random' splitter:\", accuracy_random)\n",
        "\n",
        "# Compare the accuracies\n",
        "print(\"Difference in accuracy:\", accuracy_best - accuracy_random)"
      ],
      "metadata": {
        "colab": {
          "base_uri": "https://localhost:8080/"
        },
        "id": "aSQcjrI_Mirj",
        "outputId": "be6f7181-3a18-48d8-f9e0-d5c4fd23e82a"
      },
      "execution_count": 9,
      "outputs": [
        {
          "output_type": "stream",
          "name": "stdout",
          "text": [
            "Accuracy with 'best' splitter: 1.0\n",
            "Accuracy with 'random' splitter: 0.9333333333333333\n",
            "Difference in accuracy: 0.06666666666666665\n"
          ]
        }
      ]
    },
    {
      "cell_type": "code",
      "source": [
        "#23. Write a Python program to apply feature scaling before training a Decision Tree Classifier and compare its accuracy with unscaled data.\n",
        "# Import necessary libraries\n",
        "from sklearn import datasets\n",
        "from sklearn.model_selection import train_test_split\n",
        "from sklearn.tree import DecisionTreeClassifier\n",
        "from sklearn.preprocessing import StandardScaler\n",
        "from sklearn.metrics import accuracy_score\n",
        "\n",
        "# Load the Iris dataset\n",
        "iris = datasets.load_iris()\n",
        "X = iris.data\n",
        "y = iris.target\n",
        "\n",
        "# Split the dataset into training and testing sets\n",
        "X_train, X_test, y_train, y_test = train_test_split(X, y, test_size=0.2, random_state=42)\n",
        "\n",
        "# Train a Decision Tree Classifier without feature scaling\n",
        "clf_unscaled = DecisionTreeClassifier(random_state=42)\n",
        "clf_unscaled.fit(X_train, y_train)\n",
        "y_pred_unscaled = clf_unscaled.predict(X_test)\n",
        "accuracy_unscaled = accuracy_score(y_test, y_pred_unscaled)\n",
        "print(\"Accuracy without feature scaling:\", accuracy_unscaled)\n",
        "\n",
        "# Apply feature scaling\n",
        "scaler = StandardScaler()\n",
        "X_train_scaled = scaler.fit_transform(X_train)\n",
        "X_test_scaled = scaler.transform(X_test)\n",
        "\n",
        "# Train a Decision Tree Classifier with feature scaling\n",
        "clf_scaled = DecisionTreeClassifier(random_state=42)\n",
        "clf_scaled.fit(X_train_scaled, y_train)\n",
        "y_pred_scaled = clf_scaled.predict(X_test_scaled)\n",
        "accuracy_scaled = accuracy_score(y_test, y_pred_scaled)\n",
        "print(\"Accuracy with feature scaling:\", accuracy_scaled)\n",
        "\n",
        "# Compare the accuracies\n",
        "print(\"Difference in accuracy:\", accuracy_scaled - accuracy_unscaled)"
      ],
      "metadata": {
        "colab": {
          "base_uri": "https://localhost:8080/"
        },
        "id": "ispcTygxMi0x",
        "outputId": "0e0e8fd3-974b-4324-8887-96d87e8e0d05"
      },
      "execution_count": 10,
      "outputs": [
        {
          "output_type": "stream",
          "name": "stdout",
          "text": [
            "Accuracy without feature scaling: 1.0\n",
            "Accuracy with feature scaling: 1.0\n",
            "Difference in accuracy: 0.0\n"
          ]
        }
      ]
    },
    {
      "cell_type": "code",
      "source": [
        "#24. Write a Python program to train a Decision Tree Classifier using One-vs-Rest (OvR) strategy for multiclass classification.\n",
        "# Import necessary libraries\n",
        "from sklearn import datasets\n",
        "from sklearn.model_selection import train_test_split\n",
        "from sklearn.tree import DecisionTreeClassifier\n",
        "from sklearn.multiclass import OneVsRestClassifier\n",
        "from sklearn.metrics import accuracy_score\n",
        "\n",
        "# Load the Iris dataset\n",
        "iris = datasets.load_iris()\n",
        "X = iris.data\n",
        "y = iris.target\n",
        "\n",
        "# Split the dataset into training and testing sets\n",
        "X_train, X_test, y_train, y_test = train_test_split(X, y, test_size=0.2, random_state=42)\n",
        "\n",
        "# Train a Decision Tree Classifier using One-vs-Rest strategy\n",
        "clf_ovr = OneVsRestClassifier(DecisionTreeClassifier(random_state=42))\n",
        "clf_ovr.fit(X_train, y_train)\n",
        "y_pred_ovr = clf_ovr.predict(X_test)\n",
        "accuracy_ovr = accuracy_score(y_test, y_pred_ovr)\n",
        "print(\"Accuracy using One-vs-Rest strategy:\", accuracy_ovr)\n",
        "\n",
        "# Train a Decision Tree Classifier without explicitly specifying OvR strategy\n",
        "clf_default = DecisionTreeClassifier(random_state=42)\n",
        "clf_default.fit(X_train, y_train)\n",
        "y_pred_default = clf_default.predict(X_test)\n",
        "accuracy_default = accuracy_score(y_test, y_pred_default)\n",
        "print(\"Accuracy using default strategy:\", accuracy_default)"
      ],
      "metadata": {
        "colab": {
          "base_uri": "https://localhost:8080/"
        },
        "id": "6vrgCKLJMi91",
        "outputId": "f5424142-b3e3-41bd-c486-5901d5f5c4f7"
      },
      "execution_count": 11,
      "outputs": [
        {
          "output_type": "stream",
          "name": "stdout",
          "text": [
            "Accuracy using One-vs-Rest strategy: 1.0\n",
            "Accuracy using default strategy: 1.0\n"
          ]
        }
      ]
    },
    {
      "cell_type": "code",
      "source": [
        "#25. Write a Python program to train a Decision Tree Classifier and display the feature importance scores.\n",
        "# Import necessary libraries\n",
        "from sklearn import datasets\n",
        "from sklearn.model_selection import train_test_split\n",
        "from sklearn.tree import DecisionTreeClassifier\n",
        "\n",
        "# Load the Iris dataset\n",
        "iris = datasets.load_iris()\n",
        "X = iris.data\n",
        "y = iris.target\n",
        "\n",
        "# Split the dataset into training and testing sets\n",
        "X_train, X_test, y_train, y_test = train_test_split(X, y, test_size=0.2, random_state=42)\n",
        "\n",
        "# Train a Decision Tree Classifier\n",
        "clf = DecisionTreeClassifier(random_state=42)\n",
        "clf.fit(X_train, y_train)\n",
        "\n",
        "# Get feature importance scores\n",
        "feature_importances = clf.feature_importances_\n",
        "\n",
        "# Display feature importance scores\n",
        "for i, feature_name in enumerate(iris.feature_names):\n",
        "    print(f\"Feature: {feature_name}, Importance: {feature_importances[i]:.3f}\")\n",
        "\n",
        "# Sort features by importance\n",
        "sorted_features = sorted(zip(iris.feature_names, feature_importances), key=lambda x: x[1], reverse=True)\n",
        "\n",
        "# Display sorted feature importance scores\n",
        "print(\"\\nFeatures sorted by importance:\")\n",
        "for feature_name, importance in sorted_features:\n",
        "    print(f\"Feature: {feature_name}, Importance: {importance:.3f}\")"
      ],
      "metadata": {
        "colab": {
          "base_uri": "https://localhost:8080/"
        },
        "id": "5JIVUptQMjHC",
        "outputId": "05f93563-d75e-4a21-b85f-59ae1b68b370"
      },
      "execution_count": 12,
      "outputs": [
        {
          "output_type": "stream",
          "name": "stdout",
          "text": [
            "Feature: sepal length (cm), Importance: 0.000\n",
            "Feature: sepal width (cm), Importance: 0.017\n",
            "Feature: petal length (cm), Importance: 0.906\n",
            "Feature: petal width (cm), Importance: 0.077\n",
            "\n",
            "Features sorted by importance:\n",
            "Feature: petal length (cm), Importance: 0.906\n",
            "Feature: petal width (cm), Importance: 0.077\n",
            "Feature: sepal width (cm), Importance: 0.017\n",
            "Feature: sepal length (cm), Importance: 0.000\n"
          ]
        }
      ]
    },
    {
      "cell_type": "code",
      "source": [
        "#26. Write a Python program to train a Decision Tree Regressor with max_depth=3 and compare its performance with an unrestricted tree.\n",
        "# Import necessary libraries\n",
        "from sklearn.datasets import fetch_california_housing\n",
        "from sklearn.model_selection import train_test_split\n",
        "from sklearn.tree import DecisionTreeRegressor\n",
        "from sklearn.metrics import mean_squared_error\n",
        "\n",
        "# Load the California housing dataset\n",
        "cal_housing = fetch_california_housing()\n",
        "X = cal_housing.data\n",
        "y = cal_housing.target\n",
        "\n",
        "# Split the dataset into training and testing sets\n",
        "X_train, X_test, y_train, y_test = train_test_split(X, y, test_size=0.2, random_state=42)\n",
        "\n",
        "# Train a Decision Tree Regressor with max_depth=3\n",
        "regressor_depth_3 = DecisionTreeRegressor(max_depth=3, random_state=42)\n",
        "regressor_depth_3.fit(X_train, y_train)\n",
        "y_pred_depth_3 = regressor_depth_3.predict(X_test)\n",
        "mse_depth_3 = mean_squared_error(y_test, y_pred_depth_3)\n",
        "print(\"MSE with max_depth=3:\", mse_depth_3)\n",
        "\n",
        "# Train an unrestricted Decision Tree Regressor\n",
        "regressor_unrestricted = DecisionTreeRegressor(random_state=42)\n",
        "regressor_unrestricted.fit(X_train, y_train)\n",
        "y_pred_unrestricted = regressor_unrestricted.predict(X_test)\n",
        "mse_unrestricted = mean_squared_error(y_test, y_pred_unrestricted)\n",
        "print(\"MSE without restriction:\", mse_unrestricted)\n",
        "\n",
        "# Compare the performance\n",
        "print(\"Difference in MSE:\", mse_unrestricted - mse_depth_3)"
      ],
      "metadata": {
        "colab": {
          "base_uri": "https://localhost:8080/"
        },
        "id": "ZYb_bb9NMjPu",
        "outputId": "93d287c4-3185-4140-ff23-a9ff63d2a99d"
      },
      "execution_count": 14,
      "outputs": [
        {
          "output_type": "stream",
          "name": "stdout",
          "text": [
            "MSE with max_depth=3: 0.6424109810265641\n",
            "MSE without restriction: 0.495235205629094\n",
            "Difference in MSE: -0.14717577539747012\n"
          ]
        }
      ]
    },
    {
      "cell_type": "code",
      "source": [
        "#27. Write a Python program to train a Decision Tree Classifier, apply Cost Complexity Pruning (CCP), and visualize its effect on accuracy.\n",
        "# Import necessary libraries\n",
        "from sklearn import datasets\n",
        "from sklearn.model_selection import train_test_split\n",
        "from sklearn.tree import DecisionTreeClassifier\n",
        "from sklearn.metrics import accuracy_score\n",
        "import numpy as np\n",
        "import matplotlib.pyplot as plt\n",
        "\n",
        "# Load the Iris dataset\n",
        "iris = datasets.load_iris()\n",
        "X = iris.data\n",
        "y = iris.target\n",
        "\n",
        "# Split the dataset into training and testing sets\n",
        "X_train, X_test, y_train, y_test = train_test_split(X, y, test_size=0.2, random_state=42)\n",
        "\n",
        "# Train a Decision Tree Classifier\n",
        "clf = DecisionTreeClassifier(random_state=42)\n",
        "path = clf.cost_complexity_pruning_path(X_train, y_train)\n",
        "ccp_alphas = path.ccp_alphas\n",
        "\n",
        "# Initialize lists to store accuracy values\n",
        "train_acc = []\n",
        "test_acc = []\n",
        "\n",
        "# Apply Cost Complexity Pruning\n",
        "for ccp_alpha in ccp_alphas:\n",
        "    clf = DecisionTreeClassifier(random_state=42, ccp_alpha=ccp_alpha)\n",
        "    clf.fit(X_train, y_train)\n",
        "    train_acc.append(accuracy_score(y_train, clf.predict(X_train)))\n",
        "    test_acc.append(accuracy_score(y_test, clf.predict(X_test)))\n",
        "\n",
        "# Visualize the effect of CCP on accuracy\n",
        "plt.figure(figsize=(10, 6))\n",
        "plt.plot(ccp_alphas, train_acc, label=\"Training Accuracy\")\n",
        "plt.plot(ccp_alphas, test_acc, label=\"Testing Accuracy\")\n",
        "plt.xlabel(\"Cost Complexity Alpha\")\n",
        "plt.ylabel(\"Accuracy\")\n",
        "plt.title(\"Effect of Cost Complexity Pruning on Accuracy\")\n",
        "plt.legend()\n",
        "plt.show()\n",
        "\n",
        "# Find the optimal alpha value\n",
        "optimal_alpha = ccp_alphas[np.argmax(test_acc)]\n",
        "print(\"Optimal alpha value:\", optimal_alpha)\n",
        "\n",
        "# Train a Decision Tree Classifier with optimal alpha\n",
        "clf_optimal = DecisionTreeClassifier(random_state=42, ccp_alpha=optimal_alpha)\n",
        "clf_optimal.fit(X_train, y_train)\n",
        "print(\"Accuracy with optimal alpha:\", accuracy_score(y_test, clf_optimal.predict(X_test)))"
      ],
      "metadata": {
        "colab": {
          "base_uri": "https://localhost:8080/",
          "height": 599
        },
        "id": "9zoGjZUoMjY3",
        "outputId": "d170ae67-a2ba-4e1e-8cd2-6c0a30b937b0"
      },
      "execution_count": 15,
      "outputs": [
        {
          "output_type": "display_data",
          "data": {
            "text/plain": [
              "<Figure size 1000x600 with 1 Axes>"
            ],
            "image/png": "[encoded data removed]"
          },
          "metadata": {}
        },
        {
          "output_type": "stream",
          "name": "stdout",
          "text": [
            "Optimal alpha value: 0.0\n",
            "Accuracy with optimal alpha: 1.0\n"
          ]
        }
      ]
    },
    {
      "cell_type": "code",
      "source": [
        "#28. Write a Python program to train a Decision Tree Classifier and evaluate its performance using Precision, Recall, and F1 Score\n",
        "# Import necessary libraries\n",
        "from sklearn import datasets\n",
        "from sklearn.model_selection import train_test_split\n",
        "from sklearn.tree import DecisionTreeClassifier\n",
        "from sklearn.metrics import precision_score, recall_score, f1_score, classification_report\n",
        "\n",
        "# Load the Iris dataset\n",
        "iris = datasets.load_iris()\n",
        "X = iris.data\n",
        "y = iris.target\n",
        "\n",
        "# Split the dataset into training and testing sets\n",
        "X_train, X_test, y_train, y_test = train_test_split(X, y, test_size=0.2, random_state=42)\n",
        "\n",
        "# Train a Decision Tree Classifier\n",
        "clf = DecisionTreeClassifier(random_state=42)\n",
        "clf.fit(X_train, y_train)\n",
        "y_pred = clf.predict(X_test)\n",
        "\n",
        "# Evaluate the performance\n",
        "precision = precision_score(y_test, y_pred, average='weighted')\n",
        "recall = recall_score(y_test, y_pred, average='weighted')\n",
        "f1 = f1_score(y_test, y_pred, average='weighted')\n",
        "\n",
        "print(\"Precision:\", precision)\n",
        "print(\"Recall:\", recall)\n",
        "print(\"F1 Score:\", f1)\n",
        "\n",
        "# Print classification report\n",
        "print(\"\\nClassification Report:\")\n",
        "print(classification_report(y_test, y_pred))"
      ],
      "metadata": {
        "colab": {
          "base_uri": "https://localhost:8080/"
        },
        "id": "eq1ojsPVMjiM",
        "outputId": "c991467f-7fd0-4872-bc7d-6d8249dce0b8"
      },
      "execution_count": 16,
      "outputs": [
        {
          "output_type": "stream",
          "name": "stdout",
          "text": [
            "Precision: 1.0\n",
            "Recall: 1.0\n",
            "F1 Score: 1.0\n",
            "\n",
            "Classification Report:\n",
            "              precision    recall  f1-score   support\n",
            "\n",
            "           0       1.00      1.00      1.00        10\n",
            "           1       1.00      1.00      1.00         9\n",
            "           2       1.00      1.00      1.00        11\n",
            "\n",
            "    accuracy                           1.00        30\n",
            "   macro avg       1.00      1.00      1.00        30\n",
            "weighted avg       1.00      1.00      1.00        30\n",
            "\n"
          ]
        }
      ]
    },
    {
      "cell_type": "code",
      "source": [
        "#29. Write a Python program to train a Decision Tree Classifier and visualize the confusion matrix using seaborn.\n",
        "# Import necessary libraries\n",
        "from sklearn import datasets\n",
        "from sklearn.model_selection import train_test_split\n",
        "from sklearn.tree import DecisionTreeClassifier\n",
        "from sklearn.metrics import confusion_matrix\n",
        "import seaborn as sns\n",
        "import matplotlib.pyplot as plt\n",
        "\n",
        "# Load the Iris dataset\n",
        "iris = datasets.load_iris()\n",
        "X = iris.data\n",
        "y = iris.target\n",
        "\n",
        "# Split the dataset into training and testing sets\n",
        "X_train, X_test, y_train, y_test = train_test_split(X, y, test_size=0.2, random_state=42)\n",
        "\n",
        "# Train a Decision Tree Classifier\n",
        "clf = DecisionTreeClassifier(random_state=42)\n",
        "clf.fit(X_train, y_train)\n",
        "y_pred = clf.predict(X_test)\n",
        "\n",
        "# Create a confusion matrix\n",
        "cm = confusion_matrix(y_test, y_pred)\n",
        "\n",
        "# Visualize the confusion matrix\n",
        "plt.figure(figsize=(8, 6))\n",
        "sns.heatmap(cm, annot=True, cmap=\"Blues\", fmt=\"d\", xticklabels=iris.target_names, yticklabels=iris.target_names)\n",
        "plt.xlabel(\"Predicted Labels\")\n",
        "plt.ylabel(\"True Labels\")\n",
        "plt.title(\"Confusion Matrix\")\n",
        "plt.show()"
      ],
      "metadata": {
        "colab": {
          "base_uri": "https://localhost:8080/",
          "height": 564
        },
        "id": "aKptoD0CMjr8",
        "outputId": "0949b493-6eab-40e1-a619-e9d04a7139f7"
      },
      "execution_count": 17,
      "outputs": [
        {
          "output_type": "display_data",
          "data": {
            "text/plain": [
              "<Figure size 800x600 with 2 Axes>"
            ],
            "image/png": "[encoded data removed]"
          },
          "metadata": {}
        }
      ]
    },
    {
      "cell_type": "code",
      "source": [
        "#30. Write a Python program to train a Decision Tree Classifier and use GridSearchCV to find the optimal values for max_depth and min_samples_split.\n",
        "# Import necessary libraries\n",
        "from sklearn import datasets\n",
        "from sklearn.model_selection import train_test_split, GridSearchCV\n",
        "from sklearn.tree import DecisionTreeClassifier\n",
        "from sklearn.metrics import accuracy_score\n",
        "\n",
        "# Load the Iris dataset\n",
        "iris = datasets.load_iris()\n",
        "X = iris.data\n",
        "y = iris.target\n",
        "\n",
        "# Split the dataset into training and testing sets\n",
        "X_train, X_test, y_train, y_test = train_test_split(X, y, test_size=0.2, random_state=42)\n",
        "\n",
        "# Define the hyperparameter grid\n",
        "param_grid = {\n",
        "    'max_depth': [3, 5, 7, 10],\n",
        "    'min_samples_split': [2, 5, 10]\n",
        "}\n",
        "\n",
        "# Initialize the Decision Tree Classifier\n",
        "clf = DecisionTreeClassifier(random_state=42)\n",
        "\n",
        "# Perform Grid Search\n",
        "grid_search = GridSearchCV(estimator=clf, param_grid=param_grid, cv=5)\n",
        "grid_search.fit(X_train, y_train)\n",
        "\n",
        "# Get the optimal parameters\n",
        "optimal_params = grid_search.best_params_\n",
        "print(\"Optimal Parameters:\", optimal_params)\n",
        "\n",
        "# Train a Decision Tree Classifier with optimal parameters\n",
        "optimal_clf = DecisionTreeClassifier(**optimal_params, random_state=42)\n",
        "optimal_clf.fit(X_train, y_train)\n",
        "y_pred = optimal_clf.predict(X_test)\n",
        "\n",
        "# Evaluate the performance\n",
        "accuracy = accuracy_score(y_test, y_pred)\n",
        "print(\"Accuracy with optimal parameters:\", accuracy)\n",
        "\n",
        "# Print the best cross-validation score\n",
        "print(\"Best Cross-Validation Score:\", grid_search.best_score_)"
      ],
      "metadata": {
        "colab": {
          "base_uri": "https://localhost:8080/"
        },
        "id": "BXYpcZVcMj17",
        "outputId": "5056c358-a951-4c77-aec3-af286e19ae89"
      },
      "execution_count": 18,
      "outputs": [
        {
          "output_type": "stream",
          "name": "stdout",
          "text": [
            "Optimal Parameters: {'max_depth': 7, 'min_samples_split': 2}\n",
            "Accuracy with optimal parameters: 1.0\n",
            "Best Cross-Validation Score: 0.9416666666666668\n"
          ]
        }
      ]
    }
  ]
}